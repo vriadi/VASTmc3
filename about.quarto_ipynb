{
  "cells": [
    {
      "cell_type": "markdown",
      "metadata": {},
      "source": [
        "---\n",
        "title: \"About\"\n",
        "---\n",
        "\n",
        "\n",
        "\n",
        "\n",
        "About this site\n",
        "\n",
        "\n",
        "\n",
        "\n",
        "```{TEST 123}\n",
        "```"
      ],
      "id": "9c5007fa"
    }
  ],
  "metadata": {
    "kernelspec": {
      "display_name": "Python 3",
      "language": "python",
      "name": "python3"
    }
  },
  "nbformat": 4,
  "nbformat_minor": 5
}